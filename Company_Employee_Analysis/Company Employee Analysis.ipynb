{
 "cells": [
  {
   "cell_type": "code",
   "execution_count": 22,
   "metadata": {},
   "outputs": [],
   "source": [
    "import pandas as pd\n",
    "import numpy as np"
   ]
  },
  {
   "cell_type": "code",
   "execution_count": 23,
   "metadata": {},
   "outputs": [
    {
     "data": {
      "text/plain": [
       "(1000, 8)"
      ]
     },
     "execution_count": 23,
     "metadata": {},
     "output_type": "execute_result"
    }
   ],
   "source": [
    "df = pd.read_csv(\"employees.csv\")\n",
    "df.shape"
   ]
  },
  {
   "cell_type": "markdown",
   "metadata": {},
   "source": [
    "### Data cleaning and formating"
   ]
  },
  {
   "cell_type": "code",
   "execution_count": 24,
   "metadata": {},
   "outputs": [
    {
     "data": {
      "text/html": [
       "<div>\n",
       "<style scoped>\n",
       "    .dataframe tbody tr th:only-of-type {\n",
       "        vertical-align: middle;\n",
       "    }\n",
       "\n",
       "    .dataframe tbody tr th {\n",
       "        vertical-align: top;\n",
       "    }\n",
       "\n",
       "    .dataframe thead th {\n",
       "        text-align: right;\n",
       "    }\n",
       "</style>\n",
       "<table border=\"1\" class=\"dataframe\">\n",
       "  <thead>\n",
       "    <tr style=\"text-align: right;\">\n",
       "      <th></th>\n",
       "      <th>First Name</th>\n",
       "      <th>Gender</th>\n",
       "      <th>Start Date</th>\n",
       "      <th>Last Login Time</th>\n",
       "      <th>Salary</th>\n",
       "      <th>Bonus %</th>\n",
       "      <th>Senior Management</th>\n",
       "      <th>Team</th>\n",
       "    </tr>\n",
       "  </thead>\n",
       "  <tbody>\n",
       "    <tr>\n",
       "      <th>1</th>\n",
       "      <td>Thomas</td>\n",
       "      <td>Male</td>\n",
       "      <td>3/31/1996</td>\n",
       "      <td>6:53 AM</td>\n",
       "      <td>61933</td>\n",
       "      <td>4.170</td>\n",
       "      <td>True</td>\n",
       "      <td>NaN</td>\n",
       "    </tr>\n",
       "    <tr>\n",
       "      <th>7</th>\n",
       "      <td>NaN</td>\n",
       "      <td>Female</td>\n",
       "      <td>7/20/2015</td>\n",
       "      <td>10:43 AM</td>\n",
       "      <td>45906</td>\n",
       "      <td>11.598</td>\n",
       "      <td>NaN</td>\n",
       "      <td>Finance</td>\n",
       "    </tr>\n",
       "    <tr>\n",
       "      <th>10</th>\n",
       "      <td>Louise</td>\n",
       "      <td>Female</td>\n",
       "      <td>8/12/1980</td>\n",
       "      <td>9:01 AM</td>\n",
       "      <td>63241</td>\n",
       "      <td>15.132</td>\n",
       "      <td>True</td>\n",
       "      <td>NaN</td>\n",
       "    </tr>\n",
       "    <tr>\n",
       "      <th>20</th>\n",
       "      <td>Lois</td>\n",
       "      <td>NaN</td>\n",
       "      <td>4/22/1995</td>\n",
       "      <td>7:18 PM</td>\n",
       "      <td>64714</td>\n",
       "      <td>4.934</td>\n",
       "      <td>True</td>\n",
       "      <td>Legal</td>\n",
       "    </tr>\n",
       "    <tr>\n",
       "      <th>22</th>\n",
       "      <td>Joshua</td>\n",
       "      <td>NaN</td>\n",
       "      <td>3/8/2012</td>\n",
       "      <td>1:58 AM</td>\n",
       "      <td>90816</td>\n",
       "      <td>18.816</td>\n",
       "      <td>True</td>\n",
       "      <td>Client Services</td>\n",
       "    </tr>\n",
       "    <tr>\n",
       "      <th>23</th>\n",
       "      <td>NaN</td>\n",
       "      <td>Male</td>\n",
       "      <td>6/14/2012</td>\n",
       "      <td>4:19 PM</td>\n",
       "      <td>125792</td>\n",
       "      <td>5.042</td>\n",
       "      <td>NaN</td>\n",
       "      <td>NaN</td>\n",
       "    </tr>\n",
       "    <tr>\n",
       "      <th>25</th>\n",
       "      <td>NaN</td>\n",
       "      <td>Male</td>\n",
       "      <td>10/8/2012</td>\n",
       "      <td>1:12 AM</td>\n",
       "      <td>37076</td>\n",
       "      <td>18.576</td>\n",
       "      <td>NaN</td>\n",
       "      <td>Client Services</td>\n",
       "    </tr>\n",
       "    <tr>\n",
       "      <th>27</th>\n",
       "      <td>Scott</td>\n",
       "      <td>NaN</td>\n",
       "      <td>7/11/1991</td>\n",
       "      <td>6:58 PM</td>\n",
       "      <td>122367</td>\n",
       "      <td>5.218</td>\n",
       "      <td>False</td>\n",
       "      <td>Legal</td>\n",
       "    </tr>\n",
       "    <tr>\n",
       "      <th>31</th>\n",
       "      <td>Joyce</td>\n",
       "      <td>NaN</td>\n",
       "      <td>2/20/2005</td>\n",
       "      <td>2:40 PM</td>\n",
       "      <td>88657</td>\n",
       "      <td>12.752</td>\n",
       "      <td>False</td>\n",
       "      <td>Product</td>\n",
       "    </tr>\n",
       "    <tr>\n",
       "      <th>32</th>\n",
       "      <td>NaN</td>\n",
       "      <td>Male</td>\n",
       "      <td>8/21/1998</td>\n",
       "      <td>2:27 PM</td>\n",
       "      <td>122340</td>\n",
       "      <td>6.417</td>\n",
       "      <td>NaN</td>\n",
       "      <td>NaN</td>\n",
       "    </tr>\n",
       "  </tbody>\n",
       "</table>\n",
       "</div>"
      ],
      "text/plain": [
       "   First Name  Gender Start Date Last Login Time  Salary  Bonus %  \\\n",
       "1      Thomas    Male  3/31/1996         6:53 AM   61933    4.170   \n",
       "7         NaN  Female  7/20/2015        10:43 AM   45906   11.598   \n",
       "10     Louise  Female  8/12/1980         9:01 AM   63241   15.132   \n",
       "20       Lois     NaN  4/22/1995         7:18 PM   64714    4.934   \n",
       "22     Joshua     NaN   3/8/2012         1:58 AM   90816   18.816   \n",
       "23        NaN    Male  6/14/2012         4:19 PM  125792    5.042   \n",
       "25        NaN    Male  10/8/2012         1:12 AM   37076   18.576   \n",
       "27      Scott     NaN  7/11/1991         6:58 PM  122367    5.218   \n",
       "31      Joyce     NaN  2/20/2005         2:40 PM   88657   12.752   \n",
       "32        NaN    Male  8/21/1998         2:27 PM  122340    6.417   \n",
       "\n",
       "   Senior Management             Team  \n",
       "1               True              NaN  \n",
       "7                NaN          Finance  \n",
       "10              True              NaN  \n",
       "20              True            Legal  \n",
       "22              True  Client Services  \n",
       "23               NaN              NaN  \n",
       "25               NaN  Client Services  \n",
       "27             False            Legal  \n",
       "31             False          Product  \n",
       "32               NaN              NaN  "
      ]
     },
     "metadata": {},
     "output_type": "display_data"
    }
   ],
   "source": [
    "#Find NAN values in data and dropping them\n",
    "nan_df = df[df.isna().any(axis=1)]\n",
    "display(nan_df.head(10))"
   ]
  },
  {
   "cell_type": "code",
   "execution_count": 25,
   "metadata": {},
   "outputs": [],
   "source": [
    "#dropping NAN values\n",
    "df = df.dropna(axis= 'index', how=\"any\")"
   ]
  },
  {
   "cell_type": "code",
   "execution_count": 26,
   "metadata": {},
   "outputs": [
    {
     "name": "stdout",
     "output_type": "stream",
     "text": [
      "<class 'pandas.core.frame.DataFrame'>\n",
      "Int64Index: 764 entries, 0 to 999\n",
      "Data columns (total 8 columns):\n",
      " #   Column             Non-Null Count  Dtype  \n",
      "---  ------             --------------  -----  \n",
      " 0   First Name         764 non-null    object \n",
      " 1   Gender             764 non-null    object \n",
      " 2   Start Date         764 non-null    object \n",
      " 3   Last Login Time    764 non-null    object \n",
      " 4   Salary             764 non-null    int64  \n",
      " 5   Bonus %            764 non-null    float64\n",
      " 6   Senior Management  764 non-null    object \n",
      " 7   Team               764 non-null    object \n",
      "dtypes: float64(1), int64(1), object(6)\n",
      "memory usage: 53.7+ KB\n"
     ]
    }
   ],
   "source": [
    "df.info()"
   ]
  },
  {
   "cell_type": "markdown",
   "metadata": {},
   "source": [
    "### Data exploration"
   ]
  },
  {
   "cell_type": "code",
   "execution_count": 27,
   "metadata": {},
   "outputs": [
    {
     "name": "stdout",
     "output_type": "stream",
     "text": [
      "Team\n",
      "Business Development    88\n",
      "Client Services         85\n",
      "Distribution            60\n",
      "Engineering             79\n",
      "Finance                 80\n",
      "Human Resources         76\n",
      "Legal                   67\n",
      "Marketing               74\n",
      "Product                 83\n",
      "Sales                   72\n",
      "Name: First Name, dtype: int64\n"
     ]
    }
   ],
   "source": [
    "#Number Of people working in each department\n",
    "num_of_people = df.groupby([\"Team\"]).count()[\"First Name\"]\n",
    "print(num_of_people)"
   ]
  },
  {
   "cell_type": "code",
   "execution_count": 28,
   "metadata": {},
   "outputs": [
    {
     "ename": "SyntaxError",
     "evalue": "unexpected EOF while parsing (<ipython-input-28-e374725819e3>, line 2)",
     "output_type": "error",
     "traceback": [
      "\u001b[0;36m  File \u001b[0;32m\"<ipython-input-28-e374725819e3>\"\u001b[0;36m, line \u001b[0;32m2\u001b[0m\n\u001b[0;31m    df[\"Team\"].value_counts().count(\u001b[0m\n\u001b[0m                                    ^\u001b[0m\n\u001b[0;31mSyntaxError\u001b[0m\u001b[0;31m:\u001b[0m unexpected EOF while parsing\n"
     ]
    }
   ],
   "source": [
    "#lets start by finding the number of deparments in the company\n",
    "df[\"Team\"].value_counts().count("
   ]
  },
  {
   "cell_type": "code",
   "execution_count": 29,
   "metadata": {},
   "outputs": [
    {
     "data": {
      "image/png": "[encoded data removed]",
      "text/plain": [
       "<Figure size 720x576 with 1 Axes>"
      ]
     },
     "metadata": {
      "needs_background": "light"
     },
     "output_type": "display_data"
    }
   ],
   "source": [
    "import matplotlib.pyplot as plt\n",
    "plt.figure(figsize=(10,8))\n",
    "df[\"Team\"].value_counts().plot.bar(color=\"green\")\n",
    "plt.gcf().autofmt_xdate()"
   ]
  },
  {
   "cell_type": "code",
   "execution_count": 30,
   "metadata": {},
   "outputs": [
    {
     "data": {
      "text/plain": [
       "<matplotlib.axes._subplots.AxesSubplot at 0x7fcf6ead3a10>"
      ]
     },
     "execution_count": 30,
     "metadata": {},
     "output_type": "execute_result"
    },
    {
     "data": {
      "image/png": "[encoded data removed]",
      "text/plain": [
       "<Figure size 432x288 with 1 Axes>"
      ]
     },
     "metadata": {
      "needs_background": "light"
     },
     "output_type": "display_data"
    }
   ],
   "source": [
    "#who are top 5 highest paid employees in the company\n",
    "most_earning = df.groupby([\"First Name\"])[\"Salary\"].max().sort_values(ascending=False).nlargest(5)\n",
    "most_earning.plot.bar()"
   ]
  },
  {
   "cell_type": "code",
   "execution_count": 31,
   "metadata": {},
   "outputs": [],
   "source": [
    "#which team are they at in the company"
   ]
  },
  {
   "cell_type": "code",
   "execution_count": 32,
   "metadata": {},
   "outputs": [
    {
     "data": {
      "image/png": "[encoded data removed]",
      "text/plain": [
       "<Figure size 648x648 with 1 Axes>"
      ]
     },
     "metadata": {
      "needs_background": "light"
     },
     "output_type": "display_data"
    }
   ],
   "source": [
    "#checking the salary distribution among the numbers in the company\n",
    "import seaborn as sns\n",
    "plt.figure(figsize=(9,9))\n",
    "sns.distplot( df['Salary'])\n",
    "plt.show()"
   ]
  },
  {
   "cell_type": "code",
   "execution_count": 33,
   "metadata": {},
   "outputs": [],
   "source": [
    "# who are the newest and oldest among the employees \n",
    "#extracting the years from \"Start date\" column and create a new column\n",
    "df[\"year\"] = pd.to_datetime(df[\"Start Date\"]).dt.year"
   ]
  },
  {
   "cell_type": "code",
   "execution_count": 34,
   "metadata": {},
   "outputs": [
    {
     "name": "stdout",
     "output_type": "stream",
     "text": [
      "<class 'pandas.core.frame.DataFrame'>\n",
      "Int64Index: 764 entries, 0 to 999\n",
      "Data columns (total 9 columns):\n",
      " #   Column             Non-Null Count  Dtype  \n",
      "---  ------             --------------  -----  \n",
      " 0   First Name         764 non-null    object \n",
      " 1   Gender             764 non-null    object \n",
      " 2   Start Date         764 non-null    object \n",
      " 3   Last Login Time    764 non-null    object \n",
      " 4   Salary             764 non-null    int64  \n",
      " 5   Bonus %            764 non-null    float64\n",
      " 6   Senior Management  764 non-null    object \n",
      " 7   Team               764 non-null    object \n",
      " 8   year               764 non-null    int64  \n",
      "dtypes: float64(1), int64(2), object(6)\n",
      "memory usage: 59.7+ KB\n"
     ]
    }
   ],
   "source": [
    "df.info()"
   ]
  },
  {
   "cell_type": "code",
   "execution_count": 35,
   "metadata": {
    "collapsed": true
   },
   "outputs": [
    {
     "data": {
      "text/html": [
       "<div>\n",
       "<style scoped>\n",
       "    .dataframe tbody tr th:only-of-type {\n",
       "        vertical-align: middle;\n",
       "    }\n",
       "\n",
       "    .dataframe tbody tr th {\n",
       "        vertical-align: top;\n",
       "    }\n",
       "\n",
       "    .dataframe thead th {\n",
       "        text-align: right;\n",
       "    }\n",
       "</style>\n",
       "<table border=\"1\" class=\"dataframe\">\n",
       "  <thead>\n",
       "    <tr style=\"text-align: right;\">\n",
       "      <th></th>\n",
       "      <th>First Name</th>\n",
       "    </tr>\n",
       "    <tr>\n",
       "      <th>year</th>\n",
       "      <th></th>\n",
       "    </tr>\n",
       "  </thead>\n",
       "  <tbody>\n",
       "    <tr>\n",
       "      <th>2016</th>\n",
       "      <td>7</td>\n",
       "    </tr>\n",
       "    <tr>\n",
       "      <th>1985</th>\n",
       "      <td>12</td>\n",
       "    </tr>\n",
       "    <tr>\n",
       "      <th>1987</th>\n",
       "      <td>13</td>\n",
       "    </tr>\n",
       "    <tr>\n",
       "      <th>1983</th>\n",
       "      <td>14</td>\n",
       "    </tr>\n",
       "    <tr>\n",
       "      <th>1989</th>\n",
       "      <td>14</td>\n",
       "    </tr>\n",
       "    <tr>\n",
       "      <th>1993</th>\n",
       "      <td>15</td>\n",
       "    </tr>\n",
       "    <tr>\n",
       "      <th>1991</th>\n",
       "      <td>15</td>\n",
       "    </tr>\n",
       "    <tr>\n",
       "      <th>1990</th>\n",
       "      <td>15</td>\n",
       "    </tr>\n",
       "    <tr>\n",
       "      <th>1998</th>\n",
       "      <td>16</td>\n",
       "    </tr>\n",
       "    <tr>\n",
       "      <th>1981</th>\n",
       "      <td>16</td>\n",
       "    </tr>\n",
       "    <tr>\n",
       "      <th>2015</th>\n",
       "      <td>17</td>\n",
       "    </tr>\n",
       "    <tr>\n",
       "      <th>2014</th>\n",
       "      <td>18</td>\n",
       "    </tr>\n",
       "    <tr>\n",
       "      <th>1988</th>\n",
       "      <td>18</td>\n",
       "    </tr>\n",
       "    <tr>\n",
       "      <th>1994</th>\n",
       "      <td>19</td>\n",
       "    </tr>\n",
       "    <tr>\n",
       "      <th>2003</th>\n",
       "      <td>19</td>\n",
       "    </tr>\n",
       "    <tr>\n",
       "      <th>1980</th>\n",
       "      <td>20</td>\n",
       "    </tr>\n",
       "    <tr>\n",
       "      <th>1992</th>\n",
       "      <td>20</td>\n",
       "    </tr>\n",
       "    <tr>\n",
       "      <th>2001</th>\n",
       "      <td>20</td>\n",
       "    </tr>\n",
       "    <tr>\n",
       "      <th>2000</th>\n",
       "      <td>20</td>\n",
       "    </tr>\n",
       "    <tr>\n",
       "      <th>2012</th>\n",
       "      <td>21</td>\n",
       "    </tr>\n",
       "    <tr>\n",
       "      <th>2006</th>\n",
       "      <td>21</td>\n",
       "    </tr>\n",
       "    <tr>\n",
       "      <th>1986</th>\n",
       "      <td>21</td>\n",
       "    </tr>\n",
       "    <tr>\n",
       "      <th>2005</th>\n",
       "      <td>22</td>\n",
       "    </tr>\n",
       "    <tr>\n",
       "      <th>2008</th>\n",
       "      <td>22</td>\n",
       "    </tr>\n",
       "    <tr>\n",
       "      <th>1997</th>\n",
       "      <td>23</td>\n",
       "    </tr>\n",
       "    <tr>\n",
       "      <th>1996</th>\n",
       "      <td>23</td>\n",
       "    </tr>\n",
       "    <tr>\n",
       "      <th>2010</th>\n",
       "      <td>24</td>\n",
       "    </tr>\n",
       "    <tr>\n",
       "      <th>2011</th>\n",
       "      <td>24</td>\n",
       "    </tr>\n",
       "    <tr>\n",
       "      <th>1982</th>\n",
       "      <td>24</td>\n",
       "    </tr>\n",
       "    <tr>\n",
       "      <th>2004</th>\n",
       "      <td>26</td>\n",
       "    </tr>\n",
       "    <tr>\n",
       "      <th>2007</th>\n",
       "      <td>27</td>\n",
       "    </tr>\n",
       "    <tr>\n",
       "      <th>2013</th>\n",
       "      <td>27</td>\n",
       "    </tr>\n",
       "    <tr>\n",
       "      <th>1984</th>\n",
       "      <td>27</td>\n",
       "    </tr>\n",
       "    <tr>\n",
       "      <th>2002</th>\n",
       "      <td>28</td>\n",
       "    </tr>\n",
       "    <tr>\n",
       "      <th>1999</th>\n",
       "      <td>31</td>\n",
       "    </tr>\n",
       "    <tr>\n",
       "      <th>1995</th>\n",
       "      <td>32</td>\n",
       "    </tr>\n",
       "    <tr>\n",
       "      <th>2009</th>\n",
       "      <td>33</td>\n",
       "    </tr>\n",
       "  </tbody>\n",
       "</table>\n",
       "</div>"
      ],
      "text/plain": [
       "      First Name\n",
       "year            \n",
       "2016           7\n",
       "1985          12\n",
       "1987          13\n",
       "1983          14\n",
       "1989          14\n",
       "1993          15\n",
       "1991          15\n",
       "1990          15\n",
       "1998          16\n",
       "1981          16\n",
       "2015          17\n",
       "2014          18\n",
       "1988          18\n",
       "1994          19\n",
       "2003          19\n",
       "1980          20\n",
       "1992          20\n",
       "2001          20\n",
       "2000          20\n",
       "2012          21\n",
       "2006          21\n",
       "1986          21\n",
       "2005          22\n",
       "2008          22\n",
       "1997          23\n",
       "1996          23\n",
       "2010          24\n",
       "2011          24\n",
       "1982          24\n",
       "2004          26\n",
       "2007          27\n",
       "2013          27\n",
       "1984          27\n",
       "2002          28\n",
       "1999          31\n",
       "1995          32\n",
       "2009          33"
      ]
     },
     "execution_count": 35,
     "metadata": {},
     "output_type": "execute_result"
    }
   ],
   "source": [
    "#To analyze how many employee the company hired by year\n",
    "years = df.groupby([\"year\"]).agg({\"First Name\" : 'count'})\n",
    "years.reset_index()\n",
    "years.sort_values(\"First Name\")"
   ]
  },
  {
   "cell_type": "code",
   "execution_count": 39,
   "metadata": {},
   "outputs": [
    {
     "data": {
      "text/plain": [
       "Text(0.5, 0, 'hired by years')"
      ]
     },
     "execution_count": 39,
     "metadata": {},
     "output_type": "execute_result"
    },
    {
     "data": {
      "image/png": "[encoded data removed]",
      "text/plain": [
       "<Figure size 432x288 with 1 Axes>"
      ]
     },
     "metadata": {
      "needs_background": "light"
     },
     "output_type": "display_data"
    }
   ],
   "source": [
    "#analyzing hired number of employees by year\n",
    "#seeing the years which company hired most of employess\n",
    "ten = years.nlargest(10, \"First Name\").plot(kind=\"bar\")\n",
    "plt.ylabel('total by yearr')\n",
    "plt.xlabel('hired by years')"
   ]
  },
  {
   "cell_type": "code",
   "execution_count": 42,
   "metadata": {},
   "outputs": [
    {
     "data": {
      "text/plain": [
       "Text(0.5, 1.0, 'Total Salary Comparison by Gender')"
      ]
     },
     "execution_count": 42,
     "metadata": {},
     "output_type": "execute_result"
    },
    {
     "data": {
      "image/png": "[encoded data removed]",
      "text/plain": [
       "<Figure size 432x288 with 1 Axes>"
      ]
     },
     "metadata": {
      "needs_background": "light"
     },
     "output_type": "display_data"
    }
   ],
   "source": [
    "df.groupby([\"Gender\"]).agg({\"Salary\":\"sum\"}).plot(kind=\"bar\", color=[\"red\", \"black\"])\n",
    "plt.title(\"Total Salary Comparison by Gender\")\n",
    "#as a rresult, the total of female employees are higher than males"
   ]
  },
  {
   "cell_type": "markdown",
   "metadata": {},
   "source": [
    "### Filtering practices"
   ]
  },
  {
   "cell_type": "code",
   "execution_count": 44,
   "metadata": {},
   "outputs": [
    {
     "data": {
      "text/html": [
       "<div>\n",
       "<style scoped>\n",
       "    .dataframe tbody tr th:only-of-type {\n",
       "        vertical-align: middle;\n",
       "    }\n",
       "\n",
       "    .dataframe tbody tr th {\n",
       "        vertical-align: top;\n",
       "    }\n",
       "\n",
       "    .dataframe thead th {\n",
       "        text-align: right;\n",
       "    }\n",
       "</style>\n",
       "<table border=\"1\" class=\"dataframe\">\n",
       "  <thead>\n",
       "    <tr style=\"text-align: right;\">\n",
       "      <th></th>\n",
       "      <th>First Name</th>\n",
       "      <th>Gender</th>\n",
       "      <th>Start Date</th>\n",
       "      <th>Last Login Time</th>\n",
       "      <th>Salary</th>\n",
       "      <th>Bonus %</th>\n",
       "      <th>Senior Management</th>\n",
       "      <th>Team</th>\n",
       "      <th>year</th>\n",
       "    </tr>\n",
       "  </thead>\n",
       "  <tbody>\n",
       "    <tr>\n",
       "      <th>63</th>\n",
       "      <td>Matthew</td>\n",
       "      <td>Male</td>\n",
       "      <td>1/2/2013</td>\n",
       "      <td>10:33 PM</td>\n",
       "      <td>35203</td>\n",
       "      <td>18.040</td>\n",
       "      <td>False</td>\n",
       "      <td>Human Resources</td>\n",
       "      <td>2013</td>\n",
       "    </tr>\n",
       "    <tr>\n",
       "      <th>119</th>\n",
       "      <td>Paul</td>\n",
       "      <td>Male</td>\n",
       "      <td>6/3/2008</td>\n",
       "      <td>3:05 PM</td>\n",
       "      <td>41054</td>\n",
       "      <td>12.299</td>\n",
       "      <td>False</td>\n",
       "      <td>Marketing</td>\n",
       "      <td>2008</td>\n",
       "    </tr>\n",
       "    <tr>\n",
       "      <th>322</th>\n",
       "      <td>Douglas</td>\n",
       "      <td>Male</td>\n",
       "      <td>1/8/2002</td>\n",
       "      <td>6:42 PM</td>\n",
       "      <td>41428</td>\n",
       "      <td>14.372</td>\n",
       "      <td>False</td>\n",
       "      <td>Product</td>\n",
       "      <td>2002</td>\n",
       "    </tr>\n",
       "    <tr>\n",
       "      <th>461</th>\n",
       "      <td>Jeremy</td>\n",
       "      <td>Male</td>\n",
       "      <td>8/9/2001</td>\n",
       "      <td>3:56 AM</td>\n",
       "      <td>43354</td>\n",
       "      <td>13.946</td>\n",
       "      <td>False</td>\n",
       "      <td>Marketing</td>\n",
       "      <td>2001</td>\n",
       "    </tr>\n",
       "    <tr>\n",
       "      <th>486</th>\n",
       "      <td>Howard</td>\n",
       "      <td>Male</td>\n",
       "      <td>4/9/2012</td>\n",
       "      <td>6:36 AM</td>\n",
       "      <td>37984</td>\n",
       "      <td>2.021</td>\n",
       "      <td>False</td>\n",
       "      <td>Distribution</td>\n",
       "      <td>2012</td>\n",
       "    </tr>\n",
       "    <tr>\n",
       "      <th>493</th>\n",
       "      <td>Craig</td>\n",
       "      <td>Male</td>\n",
       "      <td>11/1/2005</td>\n",
       "      <td>11:31 PM</td>\n",
       "      <td>44857</td>\n",
       "      <td>13.266</td>\n",
       "      <td>False</td>\n",
       "      <td>Finance</td>\n",
       "      <td>2005</td>\n",
       "    </tr>\n",
       "    <tr>\n",
       "      <th>501</th>\n",
       "      <td>Sean</td>\n",
       "      <td>Male</td>\n",
       "      <td>2/11/2013</td>\n",
       "      <td>7:07 PM</td>\n",
       "      <td>42748</td>\n",
       "      <td>9.765</td>\n",
       "      <td>False</td>\n",
       "      <td>Distribution</td>\n",
       "      <td>2013</td>\n",
       "    </tr>\n",
       "    <tr>\n",
       "      <th>519</th>\n",
       "      <td>Raymond</td>\n",
       "      <td>Male</td>\n",
       "      <td>2/16/2009</td>\n",
       "      <td>10:38 PM</td>\n",
       "      <td>37812</td>\n",
       "      <td>3.178</td>\n",
       "      <td>False</td>\n",
       "      <td>Human Resources</td>\n",
       "      <td>2009</td>\n",
       "    </tr>\n",
       "    <tr>\n",
       "      <th>610</th>\n",
       "      <td>Alan</td>\n",
       "      <td>Male</td>\n",
       "      <td>2/17/2012</td>\n",
       "      <td>12:26 AM</td>\n",
       "      <td>41453</td>\n",
       "      <td>10.084</td>\n",
       "      <td>False</td>\n",
       "      <td>Product</td>\n",
       "      <td>2012</td>\n",
       "    </tr>\n",
       "    <tr>\n",
       "      <th>762</th>\n",
       "      <td>Terry</td>\n",
       "      <td>Male</td>\n",
       "      <td>11/10/2004</td>\n",
       "      <td>4:33 AM</td>\n",
       "      <td>35633</td>\n",
       "      <td>3.947</td>\n",
       "      <td>True</td>\n",
       "      <td>Distribution</td>\n",
       "      <td>2004</td>\n",
       "    </tr>\n",
       "    <tr>\n",
       "      <th>804</th>\n",
       "      <td>Shawn</td>\n",
       "      <td>Male</td>\n",
       "      <td>3/17/2008</td>\n",
       "      <td>2:12 PM</td>\n",
       "      <td>39335</td>\n",
       "      <td>10.664</td>\n",
       "      <td>False</td>\n",
       "      <td>Distribution</td>\n",
       "      <td>2008</td>\n",
       "    </tr>\n",
       "    <tr>\n",
       "      <th>949</th>\n",
       "      <td>Scott</td>\n",
       "      <td>Male</td>\n",
       "      <td>8/20/2011</td>\n",
       "      <td>8:08 AM</td>\n",
       "      <td>37385</td>\n",
       "      <td>8.226</td>\n",
       "      <td>True</td>\n",
       "      <td>Business Development</td>\n",
       "      <td>2011</td>\n",
       "    </tr>\n",
       "  </tbody>\n",
       "</table>\n",
       "</div>"
      ],
      "text/plain": [
       "    First Name Gender  Start Date Last Login Time  Salary  Bonus %  \\\n",
       "63     Matthew   Male    1/2/2013        10:33 PM   35203   18.040   \n",
       "119       Paul   Male    6/3/2008         3:05 PM   41054   12.299   \n",
       "322    Douglas   Male    1/8/2002         6:42 PM   41428   14.372   \n",
       "461     Jeremy   Male    8/9/2001         3:56 AM   43354   13.946   \n",
       "486     Howard   Male    4/9/2012         6:36 AM   37984    2.021   \n",
       "493      Craig   Male   11/1/2005        11:31 PM   44857   13.266   \n",
       "501       Sean   Male   2/11/2013         7:07 PM   42748    9.765   \n",
       "519    Raymond   Male   2/16/2009        10:38 PM   37812    3.178   \n",
       "610       Alan   Male   2/17/2012        12:26 AM   41453   10.084   \n",
       "762      Terry   Male  11/10/2004         4:33 AM   35633    3.947   \n",
       "804      Shawn   Male   3/17/2008         2:12 PM   39335   10.664   \n",
       "949      Scott   Male   8/20/2011         8:08 AM   37385    8.226   \n",
       "\n",
       "    Senior Management                  Team  year  \n",
       "63              False       Human Resources  2013  \n",
       "119             False             Marketing  2008  \n",
       "322             False               Product  2002  \n",
       "461             False             Marketing  2001  \n",
       "486             False          Distribution  2012  \n",
       "493             False               Finance  2005  \n",
       "501             False          Distribution  2013  \n",
       "519             False       Human Resources  2009  \n",
       "610             False               Product  2012  \n",
       "762              True          Distribution  2004  \n",
       "804             False          Distribution  2008  \n",
       "949              True  Business Development  2011  "
      ]
     },
     "execution_count": 44,
     "metadata": {},
     "output_type": "execute_result"
    }
   ],
   "source": [
    "#employess who is making less than $45K, male and joined the company after 2000s\n",
    "mask = df[\"Salary\"] < 45000\n",
    "mask2 = df[\"Gender\"] == \"Male\"\n",
    "mask3= df[\"year\"] > 2000\n",
    "df[mask & mask2 & mask3]"
   ]
  },
  {
   "cell_type": "code",
   "execution_count": null,
   "metadata": {},
   "outputs": [],
   "source": []
  }
 ],
 "metadata": {
  "kernelspec": {
   "display_name": "Python 3",
   "language": "python",
   "name": "python3"
  },
  "language_info": {
   "codemirror_mode": {
    "name": "ipython",
    "version": 3
   },
   "file_extension": ".py",
   "mimetype": "text/x-python",
   "name": "python",
   "nbconvert_exporter": "python",
   "pygments_lexer": "ipython3",
   "version": "3.7.6"
  }
 },
 "nbformat": 4,
 "nbformat_minor": 4
}
